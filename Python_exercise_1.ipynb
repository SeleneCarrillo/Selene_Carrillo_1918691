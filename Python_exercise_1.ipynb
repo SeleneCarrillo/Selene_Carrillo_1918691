{
  "nbformat": 4,
  "nbformat_minor": 0,
  "metadata": {
    "colab": {
      "provenance": [],
      "mount_file_id": "1sR_Tn0Lq_HoA8yYpUjIH_VJp2DkFTH5_",
      "authorship_tag": "ABX9TyOiPuPFTFBtfT8D7MJc8Xv/",
      "include_colab_link": true
    },
    "kernelspec": {
      "name": "python3",
      "display_name": "Python 3"
    },
    "language_info": {
      "name": "python"
    }
  },
  "cells": [
    {
      "cell_type": "markdown",
      "metadata": {
        "id": "view-in-github",
        "colab_type": "text"
      },
      "source": [
        "<a href=\"https://colab.research.google.com/github/SeleneCarrillo/Selene_Carrillo_1918691/blob/main/Python_exercise_1.ipynb\" target=\"_parent\"><img src=\"https://colab.research.google.com/assets/colab-badge.svg\" alt=\"Open In Colab\"/></a>"
      ]
    },
    {
      "cell_type": "markdown",
      "source": [
        "Selene Guadalupe Carrillo Chávez 1918691"
      ],
      "metadata": {
        "id": "HnCyGOAIqPum"
      }
    },
    {
      "cell_type": "code",
      "source": [
        "# Text Analysis Tool\n",
        "# Create a Python program that reads a text file and performs various analyses on its content. The program should:\n",
        "# Count the number of words, sentences, and paragraphs.\n",
        "# Calculate the average word length.\n",
        "# Identify the most common words and their frequencies.\n",
        "\n",
        "import re\n",
        "from collections import Counter\n",
        "\n",
        "def read_file(file_path):\n",
        "    try:\n",
        "        with open(file_path, 'r', encoding='utf-8') as file:\n",
        "            text = file.read()\n",
        "        return text\n",
        "    except FileNotFoundError:\n",
        "        print(\"File not found.\")\n",
        "        return None\n",
        "\n",
        "def count_words(text):\n",
        "    words = re.findall(r'\\w+', text)\n",
        "    return len(words)\n",
        "\n",
        "def count_sentences(text):\n",
        "    sentences = re.split(r'[.!?]', text)\n",
        "    return len(sentences)\n",
        "\n",
        "def count_paragraphs(text):\n",
        "    paragraphs = text.split('\\n\\n')\n",
        "    return len(paragraphs)\n",
        "\n",
        "def calculate_average_word_length(text):\n",
        "    words = re.findall(r'\\w+', text)\n",
        "    total_length = sum(len(word) for word in words)\n",
        "    return total_length / len(words) if len(words) > 0 else 0\n",
        "\n",
        "def identify_most_common_words(text, num_words=10):\n",
        "    words = re.findall(r'\\w+', text.lower())\n",
        "    word_counts = Counter(words)\n",
        "    most_common = word_counts.most_common(num_words)\n",
        "    return most_common\n",
        "\n",
        "if __name__ == \"__main__\":\n",
        "    file_path = input(\"Enter the path of the text file: \")\n",
        "    text = read_file(file_path)\n",
        "\n",
        "    if text is not None:\n",
        "        word_count = count_words(text)\n",
        "        sentence_count = count_sentences(text)\n",
        "        paragraph_count = count_paragraphs(text)\n",
        "        avg_word_length = calculate_average_word_length(text)\n",
        "        most_common_words = identify_most_common_words(text)\n",
        "\n",
        "        print(f\"Number of words: {word_count}\")\n",
        "\n",
        "        print(f\"Number of sentences: {sentence_count}\")\n",
        "        print(f\"Number of paragraphs: {paragraph_count}\")\n",
        "        print(f\"Average word length: {avg_word_length:.2f}\")\n",
        "        print(\"Most common words:\")\n",
        "        for word, frequency in most_common_words:\n",
        "            print(f\"{word}: {frequency}\")\n"
      ],
      "metadata": {
        "colab": {
          "base_uri": "https://localhost:8080/"
        },
        "id": "ukce03HElawb",
        "outputId": "9d6a3bb2-66cf-49f8-87ca-a05f7730de0b"
      },
      "execution_count": 2,
      "outputs": [
        {
          "output_type": "stream",
          "name": "stdout",
          "text": [
            "Enter the path of the text file: /content/drive/MyDrive/Carta de declaración de los derechos humanos 1948.txt\n",
            "Number of words: 395\n",
            "Number of sentences: 6\n",
            "Number of paragraphs: 1\n",
            "Average word length: 4.68\n",
            "Most common words:\n",
            "de: 32\n",
            "y: 16\n",
            "a: 15\n",
            "la: 12\n",
            "los: 9\n",
            "derechos: 8\n",
            "el: 8\n",
            "país: 7\n",
            "que: 7\n",
            "carta: 6\n"
          ]
        }
      ]
    },
    {
      "cell_type": "code",
      "source": [
        "# Hangman Game:\n",
        "# Create a Python program that allows a user to play the game of Hangman.\n",
        "# The program should randomly select a word from a predefined list, and the player must guess letters one at a time until they guess the word correctly or run out of attempts\n",
        "\n",
        "import random\n",
        "\n",
        "# List of words for the game\n",
        "word_list = [\"fearless\", \"lover\", \"evermore\", \"champagne\", \"cardigan\", \"enchanted\", \"never\", \"ricochet\"]\n",
        "\n",
        "def choose_word(word_list):\n",
        "    return random.choice(word_list)\n",
        "\n",
        "def display_word(word, guessed_letters):\n",
        "    displayed_word = \"\"\n",
        "    for letter in word:\n",
        "        if letter in guessed_letters:\n",
        "            displayed_word += letter\n",
        "        else:\n",
        "            displayed_word += \"_\"\n",
        "    return displayed_word\n",
        "\n",
        "def hangman():\n",
        "    word_to_guess = choose_word(word_list)\n",
        "    attempts = 6  # Number of attempts allowed\n",
        "    guessed_letters = []\n",
        "\n",
        "    print(\"Welcome to Hangman!\")\n",
        "    while attempts > 0:\n",
        "        print(\"\\nWord:\", display_word(word_to_guess, guessed_letters))\n",
        "        print(\"Attempts left:\", attempts)\n",
        "        guess = input(\"Guess a letter: \").lower()\n",
        "\n",
        "        if len(guess) != 1 or not guess.isalpha():\n",
        "            print(\"Please enter a single letter.\")\n",
        "            continue\n",
        "\n",
        "        if guess in guessed_letters:\n",
        "            print(\"You already guessed that letter.\")\n",
        "            continue\n",
        "\n",
        "        guessed_letters.append(guess)\n",
        "\n",
        "        if guess in word_to_guess:\n",
        "            print(\"Good guess!\")\n",
        "        else:\n",
        "            print(\"Wrong guess!\")\n",
        "            attempts -= 1\n",
        "\n",
        "        if all(letter in guessed_letters for letter in word_to_guess):\n",
        "            print(\"\\nCongratulations! You guessed the word:\", word_to_guess)\n",
        "            break\n",
        "\n",
        "    if attempts == 0:\n",
        "        print(\"\\nYou ran out of attempts. The word was:\", word_to_guess)\n",
        "\n",
        "if __name__ == \"__main__\":\n",
        "    hangman()\n",
        "\n"
      ],
      "metadata": {
        "colab": {
          "base_uri": "https://localhost:8080/"
        },
        "id": "8A5o0ln_y7XZ",
        "outputId": "765a1e12-03ef-4c67-e5b0-787f7c84c575"
      },
      "execution_count": 13,
      "outputs": [
        {
          "output_type": "stream",
          "name": "stdout",
          "text": [
            "Welcome to Hangman!\n",
            "\n",
            "Word: ________\n",
            "Attempts left: 6\n",
            "Guess a letter: a\n",
            "Wrong guess!\n",
            "\n",
            "Word: ________\n",
            "Attempts left: 5\n",
            "Guess a letter: e\n",
            "Good guess!\n",
            "\n",
            "Word: ______e_\n",
            "Attempts left: 5\n",
            "Guess a letter: r\n",
            "Good guess!\n",
            "\n",
            "Word: r_____e_\n",
            "Attempts left: 5\n",
            "Guess a letter: i\n",
            "Good guess!\n",
            "\n",
            "Word: ri____e_\n",
            "Attempts left: 5\n",
            "Guess a letter: c\n",
            "Good guess!\n",
            "\n",
            "Word: ric_c_e_\n",
            "Attempts left: 5\n",
            "Guess a letter: o\n",
            "Good guess!\n",
            "\n",
            "Word: ricoc_e_\n",
            "Attempts left: 5\n",
            "Guess a letter: h\n",
            "Good guess!\n",
            "\n",
            "Word: ricoche_\n",
            "Attempts left: 5\n",
            "Guess a letter: t\n",
            "Good guess!\n",
            "\n",
            "Congratulations! You guessed the word: ricochet\n"
          ]
        }
      ]
    },
    {
      "cell_type": "code",
      "source": [
        "#Number Guessing Game:\n",
        "# Create a program that generates a random number between 1 and 100, and then asks the user to guess the number.\n",
        "# The program should provide hints to the user if the guessed number is greater or less than the target number, and keep asking for a new guess until the user guesses correctly.\n",
        "\n",
        "import random\n",
        "\n",
        "def guess_the_number():\n",
        "    target_number = random.randint(1, 100)\n",
        "    attempts = 0\n",
        "\n",
        "    print(\"Welcome to the Guess the Number game!\")\n",
        "    print(\"I'm thinking of a number between 1 and 100.\")\n",
        "\n",
        "    while True:\n",
        "        user_guess = input(\"Guess the number: \")\n",
        "\n",
        "        try:\n",
        "            user_guess = int(user_guess)\n",
        "        except ValueError:\n",
        "            print(\"Please enter a valid number.\")\n",
        "            continue\n",
        "\n",
        "        attempts += 1\n",
        "\n",
        "        if user_guess < 1 or user_guess > 100:\n",
        "            print(\"Please guess a number between 1 and 100.\")\n",
        "        elif user_guess < target_number:\n",
        "            print(\"The number is higher. Try again.\")\n",
        "        elif user_guess > target_number:\n",
        "            print(\"The number is lower. Try again.\")\n",
        "        else:\n",
        "            print(f\"Congratulations! You guessed the number {target_number} in {attempts} attempts.\")\n",
        "            break\n",
        "\n",
        "if __name__ == \"__main__\":\n",
        "    guess_the_number()\n"
      ],
      "metadata": {
        "colab": {
          "base_uri": "https://localhost:8080/"
        },
        "id": "cyccDlLCH5us",
        "outputId": "78f146db-0478-40b2-bebc-0c3a1b85730e"
      },
      "execution_count": null,
      "outputs": [
        {
          "output_type": "stream",
          "name": "stdout",
          "text": [
            "Welcome to the Guess the Number game!\n",
            "I'm thinking of a number between 1 and 100.\n",
            "Guess the number: 3\n",
            "The number is higher. Try again.\n",
            "Guess the number: 25\n",
            "The number is lower. Try again.\n",
            "Guess the number: 20\n",
            "The number is lower. Try again.\n",
            "Guess the number: 10\n",
            "Congratulations! You guessed the number 10 in 4 attempts.\n"
          ]
        }
      ]
    },
    {
      "cell_type": "code",
      "source": [],
      "metadata": {
        "id": "aWxZ5mDKmKlo"
      },
      "execution_count": null,
      "outputs": []
    }
  ]
}